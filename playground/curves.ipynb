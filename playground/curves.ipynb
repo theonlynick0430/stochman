{
 "cells": [
  {
   "cell_type": "code",
   "execution_count": null,
   "metadata": {},
   "outputs": [],
   "source": [
    "from stochman.curves import CubicSpline\n",
    "import torch \n",
    "import numpy as np\n",
    "import matplotlib.pyplot as plt"
   ]
  },
  {
   "cell_type": "code",
   "execution_count": null,
   "metadata": {},
   "outputs": [],
   "source": [
    "# constants \n",
    "N = 100 # number of nodes for cubic spline approx"
   ]
  },
  {
   "cell_type": "code",
   "execution_count": null,
   "metadata": {},
   "outputs": [],
   "source": [
    "# generate points that roughly follow sin curve between 0 and 2pi\n",
    "t = torch.linspace(0, 1, N)\n",
    "x = (t*torch.pi*2).view(1, N, 1).repeat(2, 1, 1)\n",
    "y = torch.sin(x)+ torch.normal(0, 0.05, [2, N, 1]) # add noise"
   ]
  },
  {
   "cell_type": "code",
   "execution_count": null,
   "metadata": {},
   "outputs": [],
   "source": [
    "# plot samples\n",
    "fig, axis = plt.subplots(1, 1)\n",
    "axis.scatter(x[0, :, 0],y[0, :, 0])\n",
    "axis.scatter(x[1, :, 0],y[1, :, 0])\n",
    "\n",
    "pts = torch.cat((x, y), dim=2)\n",
    "begin = pts[:, 0, :]\n",
    "end = pts[:, -1, :]\n",
    "\n",
    "# fit cubic spline \n",
    "cubic_spline = CubicSpline(begin=begin, end=end, num_nodes=N)\n",
    "# assert boundary point constraints are satisfied\n",
    "assert(torch.allclose(begin, cubic_spline(torch.tensor([0.0])).squeeze(1), atol=1e-5))\n",
    "assert(torch.allclose(end, cubic_spline(torch.tensor([1.0])).squeeze(1), atol=1e-5))\n",
    "cubic_spline.fit(t, pts)\n",
    "cubic_spline.plot(ax=axis)\n",
    "plt.show()"
   ]
  }
 ],
 "metadata": {
  "kernelspec": {
   "display_name": "rml",
   "language": "python",
   "name": "python3"
  },
  "language_info": {
   "codemirror_mode": {
    "name": "ipython",
    "version": 3
   },
   "file_extension": ".py",
   "mimetype": "text/x-python",
   "name": "python",
   "nbconvert_exporter": "python",
   "pygments_lexer": "ipython3",
   "version": "3.8.20"
  }
 },
 "nbformat": 4,
 "nbformat_minor": 2
}
