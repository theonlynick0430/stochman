{
 "cells": [
  {
   "cell_type": "code",
   "execution_count": 9,
   "metadata": {},
   "outputs": [],
   "source": [
    "from stochman.curves import CubicSpline\n",
    "import torch \n",
    "import numpy as np\n",
    "import matplotlib.pyplot as plt"
   ]
  },
  {
   "cell_type": "code",
   "execution_count": 10,
   "metadata": {},
   "outputs": [],
   "source": [
    "# constants \n",
    "N = 10 # number of nodes for cubic spline approx"
   ]
  },
  {
   "cell_type": "code",
   "execution_count": null,
   "metadata": {},
   "outputs": [],
   "source": [
    "# generate points that roughly follow sin curve between 0 and 2pi\n",
    "t = np.linspace(0, 1, N)\n",
    "# x = t*2*np.pi\n",
    "x = t*np.pi/2\n",
    "y = np.sin(x)+ np.random.normal(0, 0.1, N) # add noise\n",
    "# gt_x = np.linspace(0, 2 * np.pi, 100)\n",
    "gt_x = np.linspace(0, np.pi/2, 100)\n",
    "gt_y = np.sin(gt_x) \n",
    "\n",
    "# plot samples\n",
    "plt.plot(gt_x, gt_y, label='sin(x)', color='blue')\n",
    "plt.scatter(x, y, label='samples', color='red')\n",
    "plt.legend()\n",
    "plt.show()"
   ]
  },
  {
   "cell_type": "code",
   "execution_count": null,
   "metadata": {},
   "outputs": [],
   "source": [
    "t = torch.from_numpy(t)\n",
    "x = torch.from_numpy(x)\n",
    "y = torch.from_numpy(y)\n",
    "pts = torch.stack((x, y)).T\n",
    "begin = pts[0,:]\n",
    "end = pts[-1,:]\n",
    "print(begin)\n",
    "print(end)\n",
    "\n",
    "# fit cubic spline \n",
    "cubic_spline = CubicSpline(begin=begin, end=end, num_nodes=N)\n",
    "cubic_spline.fit(t, pts)\n",
    "cubic_spline.plot()\n",
    "print(cubic_spline(torch.tensor([0.0, 1.0])))"
   ]
  }
 ],
 "metadata": {
  "kernelspec": {
   "display_name": "rml",
   "language": "python",
   "name": "python3"
  },
  "language_info": {
   "codemirror_mode": {
    "name": "ipython",
    "version": 3
   },
   "file_extension": ".py",
   "mimetype": "text/x-python",
   "name": "python",
   "nbconvert_exporter": "python",
   "pygments_lexer": "ipython3",
   "version": "3.8.20"
  }
 },
 "nbformat": 4,
 "nbformat_minor": 2
}
